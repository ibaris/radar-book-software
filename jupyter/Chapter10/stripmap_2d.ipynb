{
 "cells": [
  {
   "cell_type": "markdown",
   "metadata": {},
   "source": [
    "# ***Introduction to Radar Using Python and MATLAB***\n",
    "## Andy Harrison - Copyright (C) 2019 Artech House\n",
    "<br/>\n",
    "\n",
    "# Stripmap SAR (2D)\n",
    "***"
   ]
  },
  {
   "cell_type": "markdown",
   "metadata": {},
   "source": [
    "Stripmap SAR uses the same backprojection algorithm as does spotlight mode SAR.  The backprojection imaging process is as follows;\n",
    "\n",
    "1. Construct the spatial domain target density array $f (x_i , y_j)$.\n",
    "2. Pulse compress return signals and perform filtering.\n",
    "3. Upsample the returns for better image quality. Upsample factors can be large $( > 100 )$.\n",
    "4. For a given pixel point, $(x_i , y_j)$, find the nearest upsampled time point (interpolate) and add the value of the filtered data to the array component $f (x_i , y_j)$.\n",
    "5. Repeat for all pixel locations $(x_i , y_j)$ and all pulses.\n",
    "\n",
    "The filtered backprojection algorithm has several advantages.  It is computationally efficient and employs the fast Fourier transform (FFT).  It is highly parallelizable as each projection's contribution and each pixel's value may be computed separately.  Also, image reconstruction may begin as soon as the first projection function is obtained, rather than waiting for all projections to be collected.  Finally, the filtered backprojection algorithm does not depend on uniform angular sampling in the projection data, and multiple object rotations or platform passes can be used.\n",
    "***"
   ]
  },
  {
   "cell_type": "markdown",
   "metadata": {},
   "source": [
    "Begin by getting the library path"
   ]
  },
  {
   "cell_type": "code",
   "execution_count": 1,
   "metadata": {},
   "outputs": [],
   "source": [
    "import lib_path"
   ]
  },
  {
   "cell_type": "markdown",
   "metadata": {},
   "source": [
    "Set the squint angle"
   ]
  },
  {
   "cell_type": "code",
   "execution_count": 2,
   "metadata": {},
   "outputs": [],
   "source": [
    "from numpy import radians\n",
    "\n",
    "squint_angle = radians(0)"
   ]
  },
  {
   "cell_type": "markdown",
   "metadata": {},
   "source": [
    "Set the **x** and **y** image center"
   ]
  },
  {
   "cell_type": "code",
   "execution_count": 3,
   "metadata": {},
   "outputs": [],
   "source": [
    "from numpy import tan\n",
    "\n",
    "x_center = 1000\n",
    "\n",
    "y_center = x_center * tan(squint_angle)"
   ]
  },
  {
   "cell_type": "markdown",
   "metadata": {},
   "source": [
    "Set the range to the center of the image (m), the **x** location of the target, they **y** location of the target, the target RCS (m^2)"
   ]
  },
  {
   "cell_type": "code",
   "execution_count": 4,
   "metadata": {},
   "outputs": [],
   "source": [
    "range_center = 1e3\n",
    "\n",
    "xt = [-3.0, 8.0]\n",
    "\n",
    "yt = [10.0, -40.0]\n",
    "\n",
    "rt = [5.0, 10.0]"
   ]
  },
  {
   "cell_type": "markdown",
   "metadata": {},
   "source": [
    "Set image span in the **x** and **y** directions"
   ]
  },
  {
   "cell_type": "code",
   "execution_count": 5,
   "metadata": {},
   "outputs": [],
   "source": [
    "x_span = 30.0\n",
    "\n",
    "y_span = 100.0"
   ]
  },
  {
   "cell_type": "markdown",
   "metadata": {},
   "source": [
    "Set the number of bins in the **x** and **y** directions"
   ]
  },
  {
   "cell_type": "code",
   "execution_count": 6,
   "metadata": {},
   "outputs": [],
   "source": [
    "nx = 400\n",
    "\n",
    "ny = 400"
   ]
  },
  {
   "cell_type": "markdown",
   "metadata": {},
   "source": [
    "Set the aperture length (m) and the antenna width (m)"
   ]
  },
  {
   "cell_type": "code",
   "execution_count": 7,
   "metadata": {},
   "outputs": [],
   "source": [
    "aperture_length = 100\n",
    "\n",
    "antenna_width = 2.0"
   ]
  },
  {
   "cell_type": "markdown",
   "metadata": {},
   "source": [
    "Set the start freuqency (Hz) and the bandwidth (Hz) of the transmitted signal"
   ]
  },
  {
   "cell_type": "code",
   "execution_count": 8,
   "metadata": {},
   "outputs": [],
   "source": [
    "start_frequency = 1e9\n",
    "\n",
    "bandwidth = 100e6"
   ]
  },
  {
   "cell_type": "markdown",
   "metadata": {},
   "source": [
    "Set the window type (Rectangular, Hanning, or Hamming)"
   ]
  },
  {
   "cell_type": "code",
   "execution_count": 9,
   "metadata": {},
   "outputs": [],
   "source": [
    "window_type = 'Hanning'"
   ]
  },
  {
   "cell_type": "markdown",
   "metadata": {},
   "source": [
    "Set the dynamic range for the image (dB)"
   ]
  },
  {
   "cell_type": "code",
   "execution_count": 10,
   "metadata": {},
   "outputs": [],
   "source": [
    "dynamic_range = 50"
   ]
  },
  {
   "cell_type": "markdown",
   "metadata": {},
   "source": [
    "Set up the image space (m)"
   ]
  },
  {
   "cell_type": "code",
   "execution_count": 11,
   "metadata": {},
   "outputs": [],
   "source": [
    "from numpy import linspace, meshgrid, zeros_like\n",
    "\n",
    "\n",
    "xi = linspace(-0.5 * x_span + x_center, 0.5 * x_span + x_center, nx)\n",
    "\n",
    "yi = linspace(-0.5 * y_span + y_center, 0.5 * y_span + y_center, ny)\n",
    "\n",
    "\n",
    "x_image, y_image = meshgrid(xi, yi)\n",
    "\n",
    "z_image = zeros_like(x_image)"
   ]
  },
  {
   "cell_type": "markdown",
   "metadata": {},
   "source": [
    "Calculate the wavelength at the start frequency (m)"
   ]
  },
  {
   "cell_type": "code",
   "execution_count": 12,
   "metadata": {},
   "outputs": [],
   "source": [
    "from scipy.constants import speed_of_light as c\n",
    "\n",
    "wavelength = c / start_frequency"
   ]
  },
  {
   "cell_type": "markdown",
   "metadata": {},
   "source": [
    "Calculate the number of frequencies"
   ]
  },
  {
   "cell_type": "code",
   "execution_count": 13,
   "metadata": {},
   "outputs": [],
   "source": [
    "from numpy import sqrt, ceil\n",
    "\n",
    "df = c / (2.0 * sqrt(x_span ** 2 + y_span ** 2))\n",
    "\n",
    "number_of_frequencies = int(ceil(bandwidth / df))"
   ]
  },
  {
   "cell_type": "markdown",
   "metadata": {},
   "source": [
    "Set up the frequency space"
   ]
  },
  {
   "cell_type": "code",
   "execution_count": 14,
   "metadata": {},
   "outputs": [],
   "source": [
    "frequency = linspace(start_frequency, start_frequency + bandwidth, number_of_frequencies)"
   ]
  },
  {
   "cell_type": "markdown",
   "metadata": {},
   "source": [
    "Set the length of the FFT"
   ]
  },
  {
   "cell_type": "code",
   "execution_count": 15,
   "metadata": {},
   "outputs": [],
   "source": [
    "from scipy.fftpack import next_fast_len\n",
    "\n",
    "fft_length = next_fast_len(4 * number_of_frequencies)"
   ]
  },
  {
   "cell_type": "markdown",
   "metadata": {},
   "source": [
    "Calculate the element spacing (m)"
   ]
  },
  {
   "cell_type": "code",
   "execution_count": 16,
   "metadata": {},
   "outputs": [],
   "source": [
    "element_spacing = wavelength / 4.0"
   ]
  },
  {
   "cell_type": "markdown",
   "metadata": {},
   "source": [
    "Calculate the number of antenna elements"
   ]
  },
  {
   "cell_type": "code",
   "execution_count": 17,
   "metadata": {},
   "outputs": [],
   "source": [
    "number_of_elements = int(ceil(antenna_width / element_spacing + 1))"
   ]
  },
  {
   "cell_type": "markdown",
   "metadata": {},
   "source": [
    "Calculate the spacing on the synthetic aperture (m)"
   ]
  },
  {
   "cell_type": "code",
   "execution_count": 18,
   "metadata": {},
   "outputs": [],
   "source": [
    "aperture_spacing = tan(c / (2 * y_span * start_frequency)) * x_center  # Based on y_span"
   ]
  },
  {
   "cell_type": "markdown",
   "metadata": {},
   "source": [
    "Calculate the number of samples (pulses) on the aperture"
   ]
  },
  {
   "cell_type": "code",
   "execution_count": 19,
   "metadata": {},
   "outputs": [],
   "source": [
    "number_of_samples = int(ceil(aperture_length / aperture_spacing + 1))"
   ]
  },
  {
   "cell_type": "markdown",
   "metadata": {},
   "source": [
    "Create the aperture"
   ]
  },
  {
   "cell_type": "code",
   "execution_count": 20,
   "metadata": {},
   "outputs": [],
   "source": [
    "synthetic_aperture = linspace(-0.5 * aperture_length, 0.5 * aperture_length, number_of_samples)"
   ]
  },
  {
   "cell_type": "markdown",
   "metadata": {},
   "source": [
    "Calculate the sensor location"
   ]
  },
  {
   "cell_type": "code",
   "execution_count": 21,
   "metadata": {},
   "outputs": [],
   "source": [
    "sensor_x = zeros_like(synthetic_aperture)\n",
    "\n",
    "sensor_y = synthetic_aperture\n",
    "\n",
    "sensor_z = zeros_like(synthetic_aperture)"
   ]
  },
  {
   "cell_type": "markdown",
   "metadata": {},
   "source": [
    "Initialize the signal"
   ]
  },
  {
   "cell_type": "code",
   "execution_count": 22,
   "metadata": {},
   "outputs": [],
   "source": [
    "from numpy import zeros\n",
    "\n",
    "signal = zeros([number_of_frequencies, number_of_samples], dtype=complex)"
   ]
  },
  {
   "cell_type": "markdown",
   "metadata": {},
   "source": [
    "Initialize the range center (m)"
   ]
  },
  {
   "cell_type": "code",
   "execution_count": 23,
   "metadata": {},
   "outputs": [],
   "source": [
    "range_center = zeros_like(synthetic_aperture)"
   ]
  },
  {
   "cell_type": "markdown",
   "metadata": {},
   "source": [
    "Phase term for the range phase (rad)"
   ]
  },
  {
   "cell_type": "code",
   "execution_count": 24,
   "metadata": {},
   "outputs": [],
   "source": [
    "from scipy.constants import pi\n",
    "\n",
    "phase_term = -1j * 4.0 * pi * frequency / c"
   ]
  },
  {
   "cell_type": "markdown",
   "metadata": {},
   "source": [
    "Create the signal (k-space)"
   ]
  },
  {
   "cell_type": "code",
   "execution_count": 25,
   "metadata": {},
   "outputs": [],
   "source": [
    "from numpy import arctan, cos, exp\n",
    "\n",
    "from Libs.antenna.array.linear_array_un import array_factor\n",
    "\n",
    "\n",
    "index = 0\n",
    "\n",
    "for sa in synthetic_aperture:\n",
    "    \n",
    "    range_center[index] = sqrt(x_center ** 2 + (y_center - sa) ** 2)\n",
    "    \n",
    "\n",
    "    for x, y, r in zip(xt, yt, rt):\n",
    "        \n",
    "        # Antenna pattern at each target\n",
    "        target_range = sqrt((x_center + x) ** 2 + (y_center + y - sa) ** 2) - range_center[index]\n",
    "        \n",
    "        target_azimuth = arctan((y_center + y - sa) / (x_center + x))\n",
    "        \n",
    "        antenna_pattern = array_factor(number_of_elements, 0.5 * pi - squint_angle, element_spacing,\n",
    "                                               start_frequency, 0.5 * pi - target_azimuth, 'Uniform', 0) * cos(squint_angle)\n",
    "        \n",
    "        signal[:, index] += r * antenna_pattern ** 2 * exp(phase_term * target_range)\n",
    "        \n",
    "    index += 1"
   ]
  },
  {
   "cell_type": "markdown",
   "metadata": {},
   "source": [
    "Get the selected window"
   ]
  },
  {
   "cell_type": "code",
   "execution_count": 26,
   "metadata": {},
   "outputs": [],
   "source": [
    "from numpy import ones, outer\n",
    "\n",
    "from scipy.signal.windows import hann, hamming\n",
    "\n",
    "\n",
    "if window_type == 'Hanning':\n",
    "    \n",
    "    h1 = hann(number_of_frequencies, True)\n",
    "    \n",
    "    h2 = hann(number_of_samples, True)\n",
    "    \n",
    "    coefficients = sqrt(outer(h1, h2))\n",
    "    \n",
    "elif window_type == 'Hamming':\n",
    "    \n",
    "    h1 = hamming(number_of_frequencies, True)\n",
    "    \n",
    "    h2 = hamming(number_of_samples, True)\n",
    "    \n",
    "    coefficients = sqrt(outer(h1, h2))\n",
    "    \n",
    "elif window_type == 'Rectangular':\n",
    "    \n",
    "    coefficients = ones([number_of_frequencies, number_of_samples])"
   ]
  },
  {
   "cell_type": "markdown",
   "metadata": {},
   "source": [
    "Apply the selected window"
   ]
  },
  {
   "cell_type": "code",
   "execution_count": 27,
   "metadata": {},
   "outputs": [],
   "source": [
    "signal *= coefficients"
   ]
  },
  {
   "cell_type": "markdown",
   "metadata": {},
   "source": [
    "Reconstruct the image using the `backprojection` routines"
   ]
  },
  {
   "cell_type": "code",
   "execution_count": 28,
   "metadata": {},
   "outputs": [],
   "source": [
    "from Libs.sar import backprojection\n",
    "\n",
    "bp_image = backprojection.reconstruct(signal, sensor_x, sensor_y, sensor_z, range_center, x_image, y_image, z_image, frequency, fft_length)"
   ]
  },
  {
   "cell_type": "markdown",
   "metadata": {},
   "source": [
    "Display the stripmap image using the `matplotlib` routines"
   ]
  },
  {
   "cell_type": "code",
   "execution_count": 29,
   "metadata": {},
   "outputs": [
    {
     "data": {
      "text/plain": [
       "(984.9624060150376, 1015.0375939849624, -50.125313283208015, 50.12531328320802)"
      ]
     },
     "execution_count": 29,
     "metadata": {},
     "output_type": "execute_result"
    },
    {
     "data": {
      "image/png": "[encoded data removed]",
      "text/plain": [
       "<Figure size 432x648 with 2 Axes>"
      ]
     },
     "metadata": {
      "needs_background": "light"
     },
     "output_type": "display_data"
    }
   ],
   "source": [
    "from matplotlib import pyplot as plt\n",
    "\n",
    "from numpy import log10, amax\n",
    "\n",
    "\n",
    "# Normalize the image\n",
    "\n",
    "bpi = abs(bp_image) / amax(abs(bp_image))\n",
    "\n",
    "\n",
    "\n",
    "# Set the figure size\n",
    "\n",
    "plt.rcParams[\"figure.figsize\"] = (6, 9)\n",
    "\n",
    "\n",
    "# Set up the axes\n",
    "\n",
    "fig, axes1 = plt.subplots()\n",
    "\n",
    "\n",
    "# create the color plot\n",
    "\n",
    "im = axes1.pcolor(xi, yi, 20.0 * log10(bpi), cmap='jet', vmin=-dynamic_range, vmax=0, shading = 'auto')\n",
    "\n",
    "cbar = fig.colorbar(im, ax=axes1, orientation='vertical')\n",
    "\n",
    "cbar.set_label(\"(dB)\", size=10)\n",
    "\n",
    "\n",
    "\n",
    "# Set the plot title and labels\n",
    "\n",
    "axes1.set_title('Stripmap SAR', size=14)\n",
    "\n",
    "axes1.set_xlabel('Range (m)', size=12)\n",
    "\n",
    "axes1.set_ylabel('Cross Range (m)', size=12)\n",
    "\n",
    "\n",
    "\n",
    "# Set the tick label size\n",
    "\n",
    "axes1.tick_params(labelsize=12)\n",
    "\n",
    "\n",
    "# Set the axis to be 'image'\n",
    "axes1.axis('image')"
   ]
  }
 ],
 "metadata": {
  "kernelspec": {
   "display_name": "Python 3",
   "language": "python",
   "name": "python3"
  },
  "language_info": {
   "codemirror_mode": {
    "name": "ipython",
    "version": 3
   },
   "file_extension": ".py",
   "mimetype": "text/x-python",
   "name": "python",
   "nbconvert_exporter": "python",
   "pygments_lexer": "ipython3",
   "version": "3.8.5"
  }
 },
 "nbformat": 4,
 "nbformat_minor": 4
}
