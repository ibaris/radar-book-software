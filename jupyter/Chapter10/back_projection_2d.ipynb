{
 "cells": [
  {
   "cell_type": "markdown",
   "metadata": {},
   "source": [
    "# ***Introduction to Radar Using Python and MATLAB***\n",
    "## Andy Harrison - Copyright (C) 2019 Artech House\n",
    "<br/>\n",
    "\n",
    "# Backprojection (2D)\n",
    "***"
   ]
  },
  {
   "cell_type": "markdown",
   "metadata": {},
   "source": [
    "The backprojection imaging process is as follows;\n",
    "\n",
    "1. Construct the spatial domain target density array $f (x_i , y_j)$.\n",
    "2. Pulse compress return signals and perform filtering.\n",
    "3. Upsample the returns for better image quality. Upsample factors can be large $( > 100 )$.\n",
    "4. For a given pixel point, $(x_i , y_j)$, find the nearest upsampled time point (interpolate) and add the value of the filtered data to the array component $f (x_i , y_j)$.\n",
    "5. Repeat for all pixel locations $(x_i , y_j)$ and all pulses.\n",
    "\n",
    "The filtered backprojection algorithm has several advantages.  It is computationally efficient and employs the fast Fourier transform (FFT).  It is highly parallelizable as each projection's contribution and each pixel's value may be computed separately.  Also, image reconstruction may begin as soon as the first projection function is obtained, rather than waiting for all projections to be collected.  Finally, the filtered backprojection algorithm does not depend on uniform angular sampling in the projection data, and multiple object rotations or platform passes can be used.\n",
    "***"
   ]
  },
  {
   "cell_type": "markdown",
   "metadata": {},
   "source": [
    "Begin by getting the library path"
   ]
  },
  {
   "cell_type": "code",
   "execution_count": 1,
   "metadata": {},
   "outputs": [
    {
     "name": "stdout",
     "output_type": "stream",
     "text": [
      "Using module d:\\Documents\\Git\\radar-book-software.\n"
     ]
    }
   ],
   "source": [
    "import lib_path"
   ]
  },
  {
   "cell_type": "markdown",
   "metadata": {},
   "source": [
    "Set the range to the center of the image (m), the **x** location of the target, they **y** location of the target, the target RCS (m^2)"
   ]
  },
  {
   "cell_type": "code",
   "execution_count": 2,
   "metadata": {},
   "outputs": [],
   "source": [
    "range_center = 1e3\n",
    "\n",
    "xt = [-3.0, 4.0]\n",
    "\n",
    "yt = [1.0, -2.0]\n",
    "\n",
    "rt = [1.0, 10.0]"
   ]
  },
  {
   "cell_type": "markdown",
   "metadata": {},
   "source": [
    "Set image span in the **x** and **y** directions"
   ]
  },
  {
   "cell_type": "code",
   "execution_count": 3,
   "metadata": {},
   "outputs": [],
   "source": [
    "x_span = 12.0\n",
    "\n",
    "y_span = 12.0"
   ]
  },
  {
   "cell_type": "markdown",
   "metadata": {},
   "source": [
    "Set the number of bins in the **x** and **y** directions"
   ]
  },
  {
   "cell_type": "code",
   "execution_count": 4,
   "metadata": {},
   "outputs": [],
   "source": [
    "nx = 200\n",
    "\n",
    "ny = 200"
   ]
  },
  {
   "cell_type": "markdown",
   "metadata": {},
   "source": [
    "Set the start freuqency (Hz) and the bandwidth (Hz) of the transmitted signal"
   ]
  },
  {
   "cell_type": "code",
   "execution_count": 5,
   "metadata": {},
   "outputs": [],
   "source": [
    "start_frequency = 9.65e+9\n",
    "\n",
    "bandwidth = 1.5e+8"
   ]
  },
  {
   "cell_type": "markdown",
   "metadata": {},
   "source": [
    "Set up the azimuth space"
   ]
  },
  {
   "cell_type": "code",
   "execution_count": 6,
   "metadata": {},
   "outputs": [],
   "source": [
    "from scipy.constants import c\n",
    "\n",
    "from numpy import sqrt, linspace, radians\n",
    "\n",
    "\n",
    "az_start = -3.0\n",
    "\n",
    "az_end = 3.0\n",
    "\n",
    "\n",
    "r = sqrt(x_span ** 2 + y_span ** 2)\n",
    "\n",
    "da = c / (2.0 * r * start_frequency)\n",
    "\n",
    "na = int(radians(az_end - az_start) / da)\n",
    "\n",
    "az = linspace(az_start, az_end, na)\n"
   ]
  },
  {
   "cell_type": "markdown",
   "metadata": {},
   "source": [
    "Set up the frequency space"
   ]
  },
  {
   "cell_type": "code",
   "execution_count": 7,
   "metadata": {},
   "outputs": [],
   "source": [
    "from scipy.fftpack import next_fast_len\n",
    "\n",
    "\n",
    "df = c / (2.0 * r)\n",
    "\n",
    "nf = int(bandwidth / df)\n",
    "\n",
    "frequency = linspace(start_frequency, start_frequency + bandwidth, nf)"
   ]
  },
  {
   "cell_type": "markdown",
   "metadata": {},
   "source": [
    "Set up the FFT length"
   ]
  },
  {
   "cell_type": "code",
   "execution_count": 8,
   "metadata": {},
   "outputs": [],
   "source": [
    "from scipy.fftpack import next_fast_len\n",
    "\n",
    "fft_length = 8 * next_fast_len(nf)"
   ]
  },
  {
   "cell_type": "markdown",
   "metadata": {},
   "source": [
    "Set up the aperture positions"
   ]
  },
  {
   "cell_type": "code",
   "execution_count": 9,
   "metadata": {},
   "outputs": [],
   "source": [
    "from numpy import sin, cos, radians, zeros_like\n",
    "\n",
    "sensor_x = range_center * cos(radians(az))\n",
    "\n",
    "sensor_y = range_center * sin(radians(az))\n",
    "\n",
    "sensor_z = zeros_like(sensor_x)"
   ]
  },
  {
   "cell_type": "markdown",
   "metadata": {},
   "source": [
    "Set up the image space"
   ]
  },
  {
   "cell_type": "code",
   "execution_count": 10,
   "metadata": {},
   "outputs": [],
   "source": [
    "from numpy import meshgrid\n",
    "\n",
    "\n",
    "xi = linspace(-0.5 * x_span, 0.5 * x_span, nx)\n",
    "\n",
    "yi = linspace(-0.5 * y_span, 0.5 * y_span, ny)\n",
    "\n",
    "x_image, y_image = meshgrid(xi, yi)\n",
    "\n",
    "z_image = zeros_like(x_image)"
   ]
  },
  {
   "cell_type": "markdown",
   "metadata": {},
   "source": [
    "Calculate the signal (k-space)"
   ]
  },
  {
   "cell_type": "code",
   "execution_count": 11,
   "metadata": {},
   "outputs": [],
   "source": [
    "from numpy import zeros, dot, exp\n",
    "\n",
    "from scipy.constants import pi\n",
    "\n",
    "signal = zeros([nf, na], dtype=complex)\n",
    "\n",
    "\n",
    "index = 0\n",
    "\n",
    "for a in az:\n",
    "\n",
    "    r_los = [cos(radians(a)), sin(radians(a))]\n",
    "\n",
    "\n",
    "    for x, y, r in zip(xt, yt, rt):\n",
    "\n",
    "        r_target = -dot(r_los, [x, y])\n",
    "\n",
    "        signal[:, index] += r * exp(-1j * 4.0 * pi * frequency / c * r_target)\n",
    "\n",
    "    index += 1"
   ]
  },
  {
   "cell_type": "markdown",
   "metadata": {},
   "source": [
    "Get the window coefficients"
   ]
  },
  {
   "cell_type": "code",
   "execution_count": 12,
   "metadata": {},
   "outputs": [],
   "source": [
    "from scipy.signal.windows import hann, hamming\n",
    "\n",
    "from numpy import outer, ones\n",
    "\n",
    "\n",
    "window_type = 'Hanning'\n",
    "\n",
    "\n",
    "\n",
    "if window_type == 'Hanning':\n",
    "\n",
    "    h1 = hann(nf, True)\n",
    "\n",
    "    h2 = hann(na, True)\n",
    "\n",
    "    coefficients = sqrt(outer(h1, h2))\n",
    "\n",
    "elif window_type == 'Hamming':\n",
    "\n",
    "    h1 = hamming(nf, True)\n",
    "\n",
    "    h2 = hamming(na, True)\n",
    "\n",
    "    coefficients = sqrt(outer(h1, h2))\n",
    "\n",
    "elif window_type == 'Rectangular':\n",
    "\n",
    "    coefficients = ones([nf, na])"
   ]
  },
  {
   "cell_type": "markdown",
   "metadata": {},
   "source": [
    "Apply the windowing coefficients"
   ]
  },
  {
   "cell_type": "code",
   "execution_count": 13,
   "metadata": {},
   "outputs": [],
   "source": [
    "signal *= coefficients"
   ]
  },
  {
   "cell_type": "markdown",
   "metadata": {},
   "source": [
    "Reconstruct the image using the `backprojection` routines"
   ]
  },
  {
   "cell_type": "code",
   "execution_count": 14,
   "metadata": {},
   "outputs": [],
   "source": [
    "from Libs.sar import backprojection\n",
    "\n",
    "bp_image = backprojection.reconstruct(signal, sensor_x, sensor_y, sensor_z, range_center, x_image, y_image, z_image, frequency, fft_length)"
   ]
  },
  {
   "cell_type": "markdown",
   "metadata": {},
   "source": [
    "Set the dynamic range for the image (dB)"
   ]
  },
  {
   "cell_type": "code",
   "execution_count": 15,
   "metadata": {},
   "outputs": [],
   "source": [
    "dynamic_range = 40"
   ]
  },
  {
   "cell_type": "markdown",
   "metadata": {},
   "source": [
    "Display the backprojection image using the `matplotlib` routines"
   ]
  },
  {
   "cell_type": "code",
   "execution_count": 16,
   "metadata": {},
   "outputs": [
    {
     "data": {
      "image/png": "[encoded data removed]",
      "text/plain": [
       "<Figure size 1500x1000 with 2 Axes>"
      ]
     },
     "metadata": {},
     "output_type": "display_data"
    }
   ],
   "source": [
    "from matplotlib import pyplot as plt\n",
    "\n",
    "from numpy import log10, amax\n",
    "\n",
    "\n",
    "# Normalize the image\n",
    "\n",
    "bpi = abs(bp_image) / amax(abs(bp_image))\n",
    "\n",
    "\n",
    "\n",
    "# Set the figure size\n",
    "\n",
    "plt.rcParams[\"figure.figsize\"] = (15, 10)\n",
    "\n",
    "\n",
    "# Set up the axes\n",
    "\n",
    "fig, axes1 = plt.subplots()\n",
    "\n",
    "\n",
    "# create the color plot\n",
    "\n",
    "im = axes1.pcolor(xi, yi, 20.0 * log10(bpi), cmap='jet', vmin=-dynamic_range, vmax=0, shading = 'auto')\n",
    "\n",
    "cbar = fig.colorbar(im, ax=axes1, orientation='vertical')\n",
    "\n",
    "cbar.set_label(\"(dB)\", size=10)\n",
    "\n",
    "\n",
    "\n",
    "# Set the plot title and labels\n",
    "\n",
    "axes1.set_title('Back Projection', size=14)\n",
    "\n",
    "axes1.set_xlabel('Range (m)', size=12)\n",
    "\n",
    "axes1.set_ylabel('Cross Range (m)', size=12)\n",
    "\n",
    "\n",
    "\n",
    "# Set the tick label size\n",
    "\n",
    "axes1.tick_params(labelsize=12)"
   ]
  }
 ],
 "metadata": {
  "kernelspec": {
   "display_name": "radar",
   "language": "python",
   "name": "python3"
  },
  "language_info": {
   "codemirror_mode": {
    "name": "ipython",
    "version": 3
   },
   "file_extension": ".py",
   "mimetype": "text/x-python",
   "name": "python",
   "nbconvert_exporter": "python",
   "pygments_lexer": "ipython3",
   "version": "3.8.15"
  },
  "vscode": {
   "interpreter": {
    "hash": "7d9f700cc927c489a7452de1beeeae0a670037eba781d3485ab5da6d02748e92"
   }
  }
 },
 "nbformat": 4,
 "nbformat_minor": 4
}
